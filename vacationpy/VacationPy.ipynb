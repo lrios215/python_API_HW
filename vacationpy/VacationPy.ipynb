{
 "cells": [
  {
   "cell_type": "markdown",
   "metadata": {},
   "source": [
    "# VacationPy\n",
    "----\n",
    "\n",
    "#### Note\n",
    "* Keep an eye on your API usage. Use https://developers.google.com/maps/reporting/gmp-reporting as reference for how to monitor your usage and billing.\n",
    "\n",
    "* Instructions have been included for each segment. You do not have to follow them exactly, but they are included to help you think through the steps."
   ]
  },
  {
   "cell_type": "code",
   "execution_count": 1,
   "metadata": {},
   "outputs": [],
   "source": [
    "# Dependencies and Setup\n",
    "import matplotlib.pyplot as plt\n",
    "import pandas as pd\n",
    "import numpy as np\n",
    "import requests\n",
    "import gmaps\n",
    "import os\n",
    "\n",
    "# Import API key\n",
    "from api_keys import g_key"
   ]
  },
  {
   "cell_type": "markdown",
   "metadata": {},
   "source": [
    "### Store Part I results into DataFrame\n",
    "* Load the csv exported in Part I to a DataFrame"
   ]
  },
  {
   "cell_type": "code",
   "execution_count": 3,
   "metadata": {},
   "outputs": [
    {
     "data": {
      "text/html": [
       "<div>\n",
       "<style scoped>\n",
       "    .dataframe tbody tr th:only-of-type {\n",
       "        vertical-align: middle;\n",
       "    }\n",
       "\n",
       "    .dataframe tbody tr th {\n",
       "        vertical-align: top;\n",
       "    }\n",
       "\n",
       "    .dataframe thead th {\n",
       "        text-align: right;\n",
       "    }\n",
       "</style>\n",
       "<table border=\"1\" class=\"dataframe\">\n",
       "  <thead>\n",
       "    <tr style=\"text-align: right;\">\n",
       "      <th></th>\n",
       "      <th>Unnamed: 0</th>\n",
       "      <th>City</th>\n",
       "      <th>Country</th>\n",
       "      <th>Date</th>\n",
       "      <th>Max Temp</th>\n",
       "      <th>Humidity</th>\n",
       "      <th>Cloudiness</th>\n",
       "      <th>Wind Speed</th>\n",
       "      <th>Latitude</th>\n",
       "      <th>Longitude</th>\n",
       "    </tr>\n",
       "  </thead>\n",
       "  <tbody>\n",
       "    <tr>\n",
       "      <th>0</th>\n",
       "      <td>103</td>\n",
       "      <td>Torbay</td>\n",
       "      <td>CA</td>\n",
       "      <td>1603627200</td>\n",
       "      <td>49.98</td>\n",
       "      <td>99</td>\n",
       "      <td>95</td>\n",
       "      <td>15.79</td>\n",
       "      <td>47.6666</td>\n",
       "      <td>-52.7314</td>\n",
       "    </tr>\n",
       "    <tr>\n",
       "      <th>1</th>\n",
       "      <td>245</td>\n",
       "      <td>Mnogovershinnyy</td>\n",
       "      <td>RU</td>\n",
       "      <td>1603627200</td>\n",
       "      <td>36.10</td>\n",
       "      <td>99</td>\n",
       "      <td>100</td>\n",
       "      <td>13.20</td>\n",
       "      <td>53.9353</td>\n",
       "      <td>139.9242</td>\n",
       "    </tr>\n",
       "    <tr>\n",
       "      <th>2</th>\n",
       "      <td>522</td>\n",
       "      <td>Kiruna</td>\n",
       "      <td>SE</td>\n",
       "      <td>1603627200</td>\n",
       "      <td>28.17</td>\n",
       "      <td>99</td>\n",
       "      <td>91</td>\n",
       "      <td>3.22</td>\n",
       "      <td>67.8557</td>\n",
       "      <td>20.2251</td>\n",
       "    </tr>\n",
       "    <tr>\n",
       "      <th>3</th>\n",
       "      <td>171</td>\n",
       "      <td>Gari</td>\n",
       "      <td>RU</td>\n",
       "      <td>1603627200</td>\n",
       "      <td>31.35</td>\n",
       "      <td>99</td>\n",
       "      <td>95</td>\n",
       "      <td>2.10</td>\n",
       "      <td>59.4307</td>\n",
       "      <td>62.3497</td>\n",
       "    </tr>\n",
       "    <tr>\n",
       "      <th>4</th>\n",
       "      <td>307</td>\n",
       "      <td>Vuktyl</td>\n",
       "      <td>RU</td>\n",
       "      <td>1603627200</td>\n",
       "      <td>26.94</td>\n",
       "      <td>98</td>\n",
       "      <td>100</td>\n",
       "      <td>7.61</td>\n",
       "      <td>63.8567</td>\n",
       "      <td>57.3094</td>\n",
       "    </tr>\n",
       "    <tr>\n",
       "      <th>...</th>\n",
       "      <td>...</td>\n",
       "      <td>...</td>\n",
       "      <td>...</td>\n",
       "      <td>...</td>\n",
       "      <td>...</td>\n",
       "      <td>...</td>\n",
       "      <td>...</td>\n",
       "      <td>...</td>\n",
       "      <td>...</td>\n",
       "      <td>...</td>\n",
       "    </tr>\n",
       "    <tr>\n",
       "      <th>536</th>\n",
       "      <td>478</td>\n",
       "      <td>Harsīn</td>\n",
       "      <td>IR</td>\n",
       "      <td>1603627200</td>\n",
       "      <td>79.97</td>\n",
       "      <td>10</td>\n",
       "      <td>0</td>\n",
       "      <td>7.07</td>\n",
       "      <td>34.2721</td>\n",
       "      <td>47.5861</td>\n",
       "    </tr>\n",
       "    <tr>\n",
       "      <th>537</th>\n",
       "      <td>239</td>\n",
       "      <td>Djibo</td>\n",
       "      <td>BF</td>\n",
       "      <td>1603627200</td>\n",
       "      <td>98.10</td>\n",
       "      <td>10</td>\n",
       "      <td>0</td>\n",
       "      <td>14.83</td>\n",
       "      <td>14.1022</td>\n",
       "      <td>-1.6306</td>\n",
       "    </tr>\n",
       "    <tr>\n",
       "      <th>538</th>\n",
       "      <td>262</td>\n",
       "      <td>Filingué</td>\n",
       "      <td>NE</td>\n",
       "      <td>1603627200</td>\n",
       "      <td>97.95</td>\n",
       "      <td>10</td>\n",
       "      <td>59</td>\n",
       "      <td>10.89</td>\n",
       "      <td>14.3521</td>\n",
       "      <td>3.3168</td>\n",
       "    </tr>\n",
       "    <tr>\n",
       "      <th>539</th>\n",
       "      <td>513</td>\n",
       "      <td>Senanga</td>\n",
       "      <td>ZM</td>\n",
       "      <td>1603627200</td>\n",
       "      <td>102.52</td>\n",
       "      <td>9</td>\n",
       "      <td>0</td>\n",
       "      <td>10.07</td>\n",
       "      <td>-16.1167</td>\n",
       "      <td>23.2667</td>\n",
       "    </tr>\n",
       "    <tr>\n",
       "      <th>540</th>\n",
       "      <td>208</td>\n",
       "      <td>Douentza</td>\n",
       "      <td>ML</td>\n",
       "      <td>1603627200</td>\n",
       "      <td>97.81</td>\n",
       "      <td>9</td>\n",
       "      <td>0</td>\n",
       "      <td>11.83</td>\n",
       "      <td>14.9951</td>\n",
       "      <td>-2.9517</td>\n",
       "    </tr>\n",
       "  </tbody>\n",
       "</table>\n",
       "<p>541 rows × 10 columns</p>\n",
       "</div>"
      ],
      "text/plain": [
       "     Unnamed: 0             City Country        Date  Max Temp  Humidity  \\\n",
       "0           103           Torbay      CA  1603627200     49.98        99   \n",
       "1           245  Mnogovershinnyy      RU  1603627200     36.10        99   \n",
       "2           522           Kiruna      SE  1603627200     28.17        99   \n",
       "3           171             Gari      RU  1603627200     31.35        99   \n",
       "4           307           Vuktyl      RU  1603627200     26.94        98   \n",
       "..          ...              ...     ...         ...       ...       ...   \n",
       "536         478           Harsīn      IR  1603627200     79.97        10   \n",
       "537         239            Djibo      BF  1603627200     98.10        10   \n",
       "538         262         Filingué      NE  1603627200     97.95        10   \n",
       "539         513          Senanga      ZM  1603627200    102.52         9   \n",
       "540         208         Douentza      ML  1603627200     97.81         9   \n",
       "\n",
       "     Cloudiness  Wind Speed  Latitude  Longitude  \n",
       "0            95       15.79   47.6666   -52.7314  \n",
       "1           100       13.20   53.9353   139.9242  \n",
       "2            91        3.22   67.8557    20.2251  \n",
       "3            95        2.10   59.4307    62.3497  \n",
       "4           100        7.61   63.8567    57.3094  \n",
       "..          ...         ...       ...        ...  \n",
       "536           0        7.07   34.2721    47.5861  \n",
       "537           0       14.83   14.1022    -1.6306  \n",
       "538          59       10.89   14.3521     3.3168  \n",
       "539           0       10.07  -16.1167    23.2667  \n",
       "540           0       11.83   14.9951    -2.9517  \n",
       "\n",
       "[541 rows x 10 columns]"
      ]
     },
     "execution_count": 3,
     "metadata": {},
     "output_type": "execute_result"
    }
   ],
   "source": [
    "#load and read csv and creat a df \n",
    "city_weather_data = \"output_vacation/city_weather.csv\"\n",
    "\n",
    "city_weather_data = pd.read_csv(city_weather_data)\n",
    "\n",
    "# Combine the data into a single dataset\n",
    "city_weather = pd.DataFrame(city_weather_data)\n",
    "city_weather\n"
   ]
  },
  {
   "cell_type": "markdown",
   "metadata": {},
   "source": [
    "### Humidity Heatmap\n",
    "* Configure gmaps.\n",
    "* Use the Lat and Lng as locations and Humidity as the weight.\n",
    "* Add Heatmap layer to map."
   ]
  },
  {
   "cell_type": "code",
   "execution_count": 4,
   "metadata": {},
   "outputs": [],
   "source": [
    "#Configure gmaps\n",
    "gmaps.configure(api_key=g_key)"
   ]
  },
  {
   "cell_type": "code",
   "execution_count": 6,
   "metadata": {},
   "outputs": [],
   "source": [
    "#Store lat and long as locations and hum as weight\n",
    "locations = city_weather[[\"Latitude\", \"Longitude\"]].astype(float)\n",
    "hum = city_weather[\"Humidity\"].astype(float)"
   ]
  },
  {
   "cell_type": "code",
   "execution_count": 19,
   "metadata": {},
   "outputs": [
    {
     "data": {
      "application/vnd.jupyter.widget-view+json": {
       "model_id": "ff669a968df54a5bb25cc056eb7ebb17",
       "version_major": 2,
       "version_minor": 0
      },
      "text/plain": [
       "Figure(layout=FigureLayout(height='420px'))"
      ]
     },
     "metadata": {},
     "output_type": "display_data"
    },
    {
     "data": {
      "text/plain": [
       "<Figure size 432x288 with 0 Axes>"
      ]
     },
     "metadata": {},
     "output_type": "display_data"
    }
   ],
   "source": [
    "#Add heatmap layer to map\n",
    "fig = gmaps.figure(center=(50.0, -100.0), zoom_level=3)\n",
    "\n",
    "heatmap_layer = gmaps.heatmap_layer(locations,\n",
    "                                    weights=hum,\n",
    "                                    opacity=1,\n",
    "                                    dissipating=False,\n",
    "                                    max_intensity=100,\n",
    "                                    point_radius = 1)\n",
    "\n",
    "fig.add_layer(heatmap_layer)\n",
    "\n",
    "#saving figure\n",
    "#plt.savefig('output_vacation/heatmap_hum.png')\n",
    "\n",
    "fig"
   ]
  },
  {
   "cell_type": "markdown",
   "metadata": {},
   "source": [
    "### Create new DataFrame fitting weather criteria\n",
    "* Narrow down the cities to fit weather conditions.\n",
    "* Drop any rows will null values."
   ]
  },
  {
   "cell_type": "code",
   "execution_count": null,
   "metadata": {},
   "outputs": [],
   "source": []
  },
  {
   "cell_type": "markdown",
   "metadata": {},
   "source": [
    "### Hotel Map\n",
    "* Store into variable named `hotel_df`.\n",
    "* Add a \"Hotel Name\" column to the DataFrame.\n",
    "* Set parameters to search for hotels with 5000 meters.\n",
    "* Hit the Google Places API for each city's coordinates.\n",
    "* Store the first Hotel result into the DataFrame.\n",
    "* Plot markers on top of the heatmap."
   ]
  },
  {
   "cell_type": "code",
   "execution_count": null,
   "metadata": {},
   "outputs": [],
   "source": []
  },
  {
   "cell_type": "code",
   "execution_count": null,
   "metadata": {},
   "outputs": [],
   "source": []
  },
  {
   "cell_type": "code",
   "execution_count": null,
   "metadata": {},
   "outputs": [],
   "source": [
    "# NOTE: Do not change any of the code in this cell\n",
    "\n",
    "# Using the template add the hotel marks to the heatmap\n",
    "info_box_template = \"\"\"\n",
    "<dl>\n",
    "<dt>Name</dt><dd>{Hotel Name}</dd>\n",
    "<dt>City</dt><dd>{City}</dd>\n",
    "<dt>Country</dt><dd>{Country}</dd>\n",
    "</dl>\n",
    "\"\"\"\n",
    "# Store the DataFrame Row\n",
    "# NOTE: be sure to update with your DataFrame name\n",
    "hotel_info = [info_box_template.format(**row) for index, row in hotel_df.iterrows()]\n",
    "locations = hotel_df[[\"Lat\", \"Lng\"]]"
   ]
  },
  {
   "cell_type": "code",
   "execution_count": null,
   "metadata": {},
   "outputs": [],
   "source": [
    "# Add marker layer ontop of heat map\n",
    "\n",
    "\n",
    "# Display figure\n"
   ]
  },
  {
   "cell_type": "code",
   "execution_count": null,
   "metadata": {},
   "outputs": [],
   "source": []
  }
 ],
 "metadata": {
  "kernelspec": {
   "display_name": "Python [conda env:PythonData] *",
   "language": "python",
   "name": "conda-env-PythonData-py"
  },
  "language_info": {
   "codemirror_mode": {
    "name": "ipython",
    "version": 3
   },
   "file_extension": ".py",
   "mimetype": "text/x-python",
   "name": "python",
   "nbconvert_exporter": "python",
   "pygments_lexer": "ipython3",
   "version": "3.6.10"
  },
  "latex_envs": {
   "LaTeX_envs_menu_present": true,
   "autoclose": false,
   "autocomplete": true,
   "bibliofile": "biblio.bib",
   "cite_by": "apalike",
   "current_citInitial": 1,
   "eqLabelWithNumbers": true,
   "eqNumInitial": 1,
   "hotkeys": {
    "equation": "Ctrl-E",
    "itemize": "Ctrl-I"
   },
   "labels_anchors": false,
   "latex_user_defs": false,
   "report_style_numbering": false,
   "user_envs_cfg": false
  }
 },
 "nbformat": 4,
 "nbformat_minor": 4
}
