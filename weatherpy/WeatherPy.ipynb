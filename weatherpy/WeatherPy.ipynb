{
 "cells": [
  {
   "cell_type": "markdown",
   "metadata": {},
   "source": [
    "# WeatherPy\n",
    "----\n",
    "\n",
    "#### Note\n",
    "* Instructions have been included for each segment. You do not have to follow them exactly, but they are included to help you think through the steps."
   ]
  },
  {
   "cell_type": "code",
   "execution_count": 3,
   "metadata": {},
   "outputs": [
    {
     "name": "stdout",
     "output_type": "stream",
     "text": [
      "Collecting citipy\n",
      "  Downloading citipy-0.0.5.tar.gz (557 kB)\n",
      "\u001b[K     |████████████████████████████████| 557 kB 1.6 MB/s eta 0:00:01\n",
      "\u001b[?25hCollecting kdtree>=0.12\n",
      "  Downloading kdtree-0.16-py2.py3-none-any.whl (7.7 kB)\n",
      "Building wheels for collected packages: citipy\n",
      "  Building wheel for citipy (setup.py) ... \u001b[?25ldone\n",
      "\u001b[?25h  Created wheel for citipy: filename=citipy-0.0.5-py3-none-any.whl size=559701 sha256=e305fa21366d297575b4675deac4d081a27e9ffa2bb09f756be8dc872596552a\n",
      "  Stored in directory: /Users/lisarios/Library/Caches/pip/wheels/eb/07/14/1c448d9fabf3aceac66270933ecae15693974a1b7f91266841\n",
      "Successfully built citipy\n",
      "Installing collected packages: kdtree, citipy\n",
      "Successfully installed citipy-0.0.5 kdtree-0.16\n",
      "Note: you may need to restart the kernel to use updated packages.\n"
     ]
    }
   ],
   "source": [
    "pip install citipy"
   ]
  },
  {
   "cell_type": "code",
   "execution_count": 80,
   "metadata": {},
   "outputs": [],
   "source": [
    " #pip install json lib"
   ]
  },
  {
   "cell_type": "code",
   "execution_count": 85,
   "metadata": {
    "scrolled": true
   },
   "outputs": [],
   "source": [
    "# Dependencies and Setup\n",
    "import matplotlib.pyplot as plt\n",
    "import pandas as pd\n",
    "import numpy as np\n",
    "import requests\n",
    "import time\n",
    "from scipy.stats import linregress\n",
    "\n",
    "# Import API key\n",
    "from api_keys import weather_api_key\n",
    "\n",
    "# Incorporated citipy to determine city based on latitude and longitude\n",
    "from citipy import citipy\n",
    "\n",
    "# Output File (CSV)\n",
    "output_data_file = \"output_data/cities.csv\"\n",
    "\n",
    "# Range of latitudes and longitudes\n",
    "lat_range = (-90, 90)\n",
    "lng_range = (-180, 180)"
   ]
  },
  {
   "cell_type": "markdown",
   "metadata": {},
   "source": [
    "## Generate Cities List"
   ]
  },
  {
   "cell_type": "code",
   "execution_count": 86,
   "metadata": {},
   "outputs": [
    {
     "data": {
      "text/plain": [
       "593"
      ]
     },
     "execution_count": 86,
     "metadata": {},
     "output_type": "execute_result"
    }
   ],
   "source": [
    "# List for holding lat_lngs and cities\n",
    "lat_lngs = []\n",
    "cities = []\n",
    "\n",
    "# Create a set of random lat and lng combinations\n",
    "lats = np.random.uniform(lat_range[0], lat_range[1], size=1500)\n",
    "lngs = np.random.uniform(lng_range[0], lng_range[1], size=1500)\n",
    "lat_lngs = zip(lats, lngs)\n",
    "\n",
    "# Identify nearest city for each lat, lng combination\n",
    "for lat_lng in lat_lngs:\n",
    "    city = citipy.nearest_city(lat_lng[0], lat_lng[1]).city_name\n",
    "    \n",
    "    # If the city is unique, then add it to a our cities list\n",
    "    if city not in cities:\n",
    "        cities.append(city)\n",
    "\n",
    "# Print the city count to confirm sufficient count\n",
    "len(cities)"
   ]
  },
  {
   "cell_type": "markdown",
   "metadata": {},
   "source": [
    "### Perform API Calls\n",
    "* Perform a weather check on each city using a series of successive API calls.\n",
    "* Include a print log of each city as it'sbeing processed (with the city number and city name).\n"
   ]
  },
  {
   "cell_type": "code",
   "execution_count": 87,
   "metadata": {
    "scrolled": true
   },
   "outputs": [
    {
     "data": {
      "text/plain": [
       "'http://api.openweathermap.org/data/2.5/forecast?id=524901&APPID=78274c7f5aab8bfab6d670663f4e3f80'"
      ]
     },
     "execution_count": 87,
     "metadata": {},
     "output_type": "execute_result"
    }
   ],
   "source": [
    "#URL to get city\n",
    "url = \"http://api.openweathermap.org/data/2.5/forecast?id=524901&APPID=\"\n",
    "target_url = url + weather_api_key\n",
    "target_url"
   ]
  },
  {
   "cell_type": "code",
   "execution_count": 88,
   "metadata": {},
   "outputs": [
    {
     "name": "stdout",
     "output_type": "stream",
     "text": [
      "Itoman\n"
     ]
    }
   ],
   "source": [
    "#test city print\n",
    "print(weather_json['city']['name'])"
   ]
  },
  {
   "cell_type": "code",
   "execution_count": 89,
   "metadata": {},
   "outputs": [
    {
     "name": "stdout",
     "output_type": "stream",
     "text": [
      "Processing record 1 of Set 1 | punta arenas\n",
      "Processing record 2 of Set 1 | rikitea\n",
      "Processing record 3 of Set 1 | coruripe\n",
      "Processing record 4 of Set 1 | butaritari\n",
      "Processing record 5 of Set 1 | iqaluit\n",
      "Processing record 6 of Set 1 | vestmannaeyjar\n",
      "Processing record 7 of Set 1 | santa rosa\n",
      "Processing record 8 of Set 1 | mount isa\n",
      "Processing record 9 of Set 1 | mataura\n",
      "Processing record 10 of Set 1 | carnarvon\n",
      "Processing record 11 of Set 1 | hithadhoo\n",
      "Processing record 12 of Set 1 | east london\n",
      "Record not found\n",
      "Processing record 13 of Set 1 | port elizabeth\n",
      "Processing record 14 of Set 1 | bluff\n",
      "Processing record 15 of Set 1 | busselton\n",
      "Record not found\n",
      "Record not found\n",
      "Processing record 16 of Set 1 | puerto ayora\n",
      "Processing record 17 of Set 1 | vaini\n",
      "Processing record 18 of Set 1 | hanna\n",
      "Processing record 19 of Set 1 | tiksi\n",
      "Processing record 20 of Set 1 | sumenep\n",
      "Processing record 21 of Set 1 | marsa matruh\n",
      "Processing record 22 of Set 1 | cape town\n",
      "Processing record 23 of Set 1 | lagoa\n",
      "Processing record 24 of Set 1 | jacareacanga\n",
      "Processing record 25 of Set 1 | mislinja\n",
      "Processing record 26 of Set 1 | nikolskoye\n",
      "Processing record 27 of Set 1 | avarua\n",
      "Processing record 28 of Set 1 | luanda\n",
      "Processing record 29 of Set 1 | severo-kurilsk\n",
      "Processing record 30 of Set 1 | auki\n",
      "Processing record 31 of Set 1 | nouadhibou\n",
      "Processing record 32 of Set 1 | nalut\n",
      "Processing record 33 of Set 1 | mahebourg\n",
      "Record not found\n",
      "Processing record 34 of Set 1 | albany\n",
      "Processing record 35 of Set 1 | hobart\n",
      "Processing record 36 of Set 1 | meadow lake\n",
      "Record not found\n",
      "Processing record 37 of Set 1 | qaanaaq\n",
      "Processing record 38 of Set 1 | constitucion\n",
      "Processing record 39 of Set 1 | sechura\n",
      "Record not found\n",
      "Processing record 40 of Set 1 | faanui\n",
      "Processing record 41 of Set 1 | cap malheureux\n",
      "Record not found\n",
      "Processing record 42 of Set 1 | parnamirim\n",
      "Processing record 43 of Set 1 | san carlos de bariloche\n",
      "Processing record 44 of Set 1 | ushuaia\n",
      "Processing record 45 of Set 1 | qaqortoq\n",
      "Processing record 46 of Set 1 | arraial do cabo\n",
      "Processing record 47 of Set 1 | minudasht\n",
      "Processing record 48 of Set 1 | ilulissat\n",
      "Processing record 49 of Set 1 | erenhot\n",
      "Processing record 50 of Set 1 | san patricio\n",
      "Processing record 51 of Set 1 | saldanha\n",
      "Processing record 52 of Set 1 | korla\n",
      "Processing record 53 of Set 1 | havre-saint-pierre\n",
      "Processing record 54 of Set 1 | atuona\n",
      "Processing record 55 of Set 1 | new norfolk\n",
      "Processing record 56 of Set 1 | port alfred\n",
      "Processing record 57 of Set 1 | bandarbeyla\n",
      "Processing record 58 of Set 1 | kapaa\n",
      "Processing record 59 of Set 1 | dmitriyevka\n",
      "Processing record 60 of Set 1 | mar del plata\n",
      "Processing record 61 of Set 1 | eydhafushi\n",
      "Record not found\n",
      "Processing record 62 of Set 1 | khani\n",
      "Processing record 63 of Set 1 | pisco\n",
      "Processing record 64 of Set 1 | peace river\n",
      "Processing record 65 of Set 1 | nyurba\n",
      "Processing record 66 of Set 1 | suclayin\n",
      "Processing record 67 of Set 1 | zyryanka\n",
      "Processing record 68 of Set 1 | fortuna\n",
      "Processing record 69 of Set 1 | broome\n",
      "Processing record 70 of Set 1 | christchurch\n",
      "Processing record 71 of Set 1 | cortes\n",
      "Processing record 72 of Set 1 | asau\n",
      "Record not found\n",
      "Processing record 73 of Set 1 | souillac\n",
      "Processing record 74 of Set 1 | palanga\n",
      "Processing record 75 of Set 1 | ribeira grande\n",
      "Processing record 76 of Set 1 | honiara\n",
      "Processing record 77 of Set 1 | hilo\n",
      "Processing record 78 of Set 1 | khandyga\n",
      "Record not found\n",
      "Processing record 79 of Set 1 | kemijarvi\n",
      "Record not found\n",
      "Processing record 80 of Set 1 | taua\n",
      "Processing record 81 of Set 1 | sinnamary\n",
      "Processing record 82 of Set 1 | gisborne\n",
      "Processing record 83 of Set 1 | chuy\n",
      "Processing record 84 of Set 1 | yellowknife\n",
      "Processing record 85 of Set 1 | lichuan\n",
      "Processing record 86 of Set 1 | miraflores\n",
      "Processing record 87 of Set 1 | tuban\n",
      "Processing record 88 of Set 1 | provideniya\n",
      "Processing record 89 of Set 1 | hermanus\n",
      "Processing record 90 of Set 1 | puerto rondon\n",
      "Processing record 91 of Set 1 | saskylakh\n",
      "Processing record 92 of Set 1 | port blair\n",
      "Processing record 93 of Set 1 | chiang rai\n",
      "Processing record 94 of Set 1 | chokurdakh\n",
      "Processing record 95 of Set 1 | tefe\n",
      "Processing record 96 of Set 1 | ust-kuyga\n",
      "Record not found\n",
      "Processing record 97 of Set 1 | mestia\n",
      "Processing record 98 of Set 1 | barrow\n",
      "Processing record 99 of Set 1 | kashi\n",
      "Processing record 100 of Set 1 | port hardy\n",
      "Processing record 101 of Set 1 | lucea\n",
      "Processing record 102 of Set 1 | staryy nadym\n",
      "Processing record 103 of Set 1 | jamestown\n",
      "Record not found\n",
      "Processing record 104 of Set 1 | torbay\n",
      "Processing record 105 of Set 1 | soyo\n",
      "Processing record 106 of Set 1 | sergeyevka\n",
      "Record not found\n",
      "Processing record 107 of Set 1 | sangar\n",
      "Processing record 108 of Set 1 | narsaq\n",
      "Processing record 109 of Set 1 | oktyabrskiy\n",
      "Processing record 110 of Set 1 | amazar\n",
      "Processing record 111 of Set 1 | tuy hoa\n",
      "Record not found\n",
      "Record not found\n",
      "Processing record 112 of Set 1 | port lincoln\n",
      "Processing record 113 of Set 1 | lavrentiya\n",
      "Processing record 114 of Set 1 | georgetown\n",
      "Processing record 115 of Set 1 | upernavik\n",
      "Processing record 116 of Set 1 | izvoarele sucevei\n",
      "Processing record 117 of Set 1 | saint george\n",
      "Processing record 118 of Set 1 | saint-denis\n",
      "Processing record 119 of Set 1 | dikson\n",
      "Processing record 120 of Set 1 | kongolo\n",
      "Processing record 121 of Set 1 | padang\n",
      "Processing record 122 of Set 1 | grindavik\n",
      "Processing record 123 of Set 1 | raichur\n",
      "Processing record 124 of Set 1 | traverse city\n",
      "Processing record 125 of Set 1 | meulaboh\n",
      "Processing record 126 of Set 1 | san juan\n",
      "Processing record 127 of Set 1 | kaitangata\n",
      "Processing record 128 of Set 1 | kruisfontein\n",
      "Record not found\n",
      "Processing record 129 of Set 1 | maragogi\n",
      "Processing record 130 of Set 1 | diamantina\n",
      "Processing record 131 of Set 1 | ancud\n",
      "Processing record 132 of Set 1 | vila velha\n",
      "Processing record 133 of Set 1 | whyalla\n",
      "Processing record 134 of Set 1 | biak\n",
      "Processing record 135 of Set 1 | norman wells\n",
      "Processing record 136 of Set 1 | oksfjord\n",
      "Processing record 137 of Set 1 | codrington\n",
      "Processing record 138 of Set 1 | katsuura\n",
      "Processing record 139 of Set 1 | cuamba\n",
      "Processing record 140 of Set 1 | okhotsk\n",
      "Processing record 141 of Set 1 | goure\n",
      "Processing record 142 of Set 1 | mishkino\n",
      "Processing record 143 of Set 1 | henties bay\n",
      "Processing record 144 of Set 1 | pevek\n",
      "Processing record 145 of Set 1 | homer\n",
      "Processing record 146 of Set 1 | alice springs\n",
      "Processing record 147 of Set 1 | thompson\n",
      "Processing record 148 of Set 1 | tommot\n",
      "Processing record 149 of Set 1 | airai\n",
      "Processing record 150 of Set 1 | port augusta\n",
      "Processing record 151 of Set 1 | kodiak\n",
      "Processing record 152 of Set 1 | hay river\n",
      "Processing record 153 of Set 1 | paamiut\n",
      "Processing record 154 of Set 1 | gamba\n",
      "Processing record 155 of Set 1 | namibe\n",
      "Processing record 156 of Set 1 | zhigansk\n",
      "Processing record 157 of Set 1 | george\n",
      "Processing record 158 of Set 1 | khatanga\n",
      "Processing record 159 of Set 1 | haines junction\n",
      "Processing record 160 of Set 1 | dubuque\n",
      "Processing record 161 of Set 1 | karratha\n",
      "Processing record 162 of Set 1 | natal\n",
      "Processing record 163 of Set 1 | san luis\n",
      "Processing record 164 of Set 1 | saint-pierre\n",
      "Processing record 165 of Set 1 | te anau\n",
      "Processing record 166 of Set 1 | saint-philippe\n",
      "Processing record 167 of Set 1 | kysyl-syr\n",
      "Processing record 168 of Set 1 | cabo san lucas\n",
      "Record not found\n",
      "Processing record 169 of Set 1 | cerrito\n",
      "Processing record 170 of Set 1 | yeppoon\n",
      "Processing record 171 of Set 1 | ndele\n",
      "Processing record 172 of Set 1 | gari\n",
      "Processing record 173 of Set 1 | bredasdorp\n",
      "Processing record 174 of Set 1 | castro\n",
      "Processing record 175 of Set 1 | lebanon\n",
      "Processing record 176 of Set 1 | teluknaga\n",
      "Processing record 177 of Set 1 | tasiilaq\n",
      "Processing record 178 of Set 1 | lebu\n",
      "Processing record 179 of Set 1 | sale\n",
      "Processing record 180 of Set 1 | balakhninskiy\n",
      "Processing record 181 of Set 1 | brokopondo\n",
      "Processing record 182 of Set 1 | takoradi\n",
      "Processing record 183 of Set 1 | bengkulu\n",
      "Processing record 184 of Set 1 | kanker\n",
      "Processing record 185 of Set 1 | batemans bay\n",
      "Processing record 186 of Set 1 | totness\n",
      "Processing record 187 of Set 1 | caravelas\n",
      "Processing record 188 of Set 1 | chulman\n",
      "Processing record 189 of Set 1 | longyearbyen\n",
      "Processing record 190 of Set 1 | mabaruma\n"
     ]
    },
    {
     "name": "stdout",
     "output_type": "stream",
     "text": [
      "Processing record 191 of Set 1 | atar\n",
      "Processing record 192 of Set 1 | esna\n",
      "Processing record 193 of Set 1 | lompoc\n",
      "Processing record 194 of Set 1 | tianpeng\n",
      "Processing record 195 of Set 1 | likasi\n",
      "Processing record 196 of Set 1 | half moon bay\n",
      "Processing record 197 of Set 1 | general elizardo aquino\n",
      "Processing record 198 of Set 1 | touros\n",
      "Processing record 199 of Set 1 | ulladulla\n",
      "Processing record 200 of Set 1 | muros\n",
      "Processing record 201 of Set 1 | pendleton\n",
      "Processing record 202 of Set 1 | kaura namoda\n",
      "Processing record 203 of Set 1 | tuktoyaktuk\n",
      "Processing record 204 of Set 1 | burnie\n",
      "Processing record 205 of Set 1 | sitka\n",
      "Processing record 206 of Set 1 | college\n",
      "Processing record 207 of Set 1 | cherskiy\n",
      "Processing record 208 of Set 1 | sao domingos do maranhao\n",
      "Processing record 209 of Set 1 | douentza\n",
      "Processing record 210 of Set 1 | mlandizi\n",
      "Processing record 211 of Set 1 | tautira\n",
      "Processing record 212 of Set 1 | launceston\n",
      "Processing record 213 of Set 1 | sandnessjoen\n",
      "Processing record 214 of Set 1 | sao joao da barra\n",
      "Processing record 215 of Set 1 | port hawkesbury\n",
      "Processing record 216 of Set 1 | nuzvid\n",
      "Processing record 217 of Set 1 | pitimbu\n",
      "Processing record 218 of Set 1 | leningradskiy\n",
      "Processing record 219 of Set 1 | san cristobal\n",
      "Processing record 220 of Set 1 | tual\n",
      "Processing record 221 of Set 1 | kulhudhuffushi\n",
      "Record not found\n",
      "Processing record 222 of Set 1 | taperoa\n",
      "Processing record 223 of Set 1 | corona\n",
      "Record not found\n",
      "Processing record 224 of Set 1 | terrace\n",
      "Processing record 225 of Set 1 | cayenne\n",
      "Processing record 226 of Set 1 | grand gaube\n",
      "Processing record 227 of Set 1 | alekseyevsk\n",
      "Processing record 228 of Set 1 | chifeng\n",
      "Processing record 229 of Set 1 | ozernovskiy\n",
      "Processing record 230 of Set 1 | qesarya\n",
      "Processing record 231 of Set 1 | oranjemund\n",
      "Record not found\n",
      "Record not found\n",
      "Processing record 232 of Set 1 | bethel\n",
      "Processing record 233 of Set 1 | itoman\n",
      "Processing record 234 of Set 1 | lahij\n",
      "Record not found\n",
      "Processing record 235 of Set 1 | isangel\n",
      "Processing record 236 of Set 1 | abu dhabi\n",
      "Record not found\n",
      "Processing record 237 of Set 1 | rocha\n",
      "Record not found\n",
      "Processing record 238 of Set 1 | moindou\n",
      "Processing record 239 of Set 1 | bundaberg\n",
      "Processing record 240 of Set 1 | djibo\n",
      "Processing record 241 of Set 1 | chekhov\n",
      "Processing record 242 of Set 1 | dali\n",
      "Processing record 243 of Set 1 | esso\n",
      "Processing record 244 of Set 1 | laredo\n",
      "Processing record 245 of Set 1 | kaeo\n",
      "Processing record 246 of Set 1 | mnogovershinnyy\n",
      "Processing record 247 of Set 1 | mosquera\n",
      "Processing record 248 of Set 1 | clyde river\n",
      "Processing record 249 of Set 1 | vysokogornyy\n",
      "Processing record 250 of Set 1 | bilibino\n",
      "Processing record 251 of Set 1 | soloneshnoye\n",
      "Processing record 252 of Set 1 | lata\n",
      "Processing record 253 of Set 1 | den helder\n",
      "Processing record 254 of Set 1 | mount gambier\n",
      "Processing record 255 of Set 1 | tura\n",
      "Processing record 256 of Set 1 | marzuq\n",
      "Processing record 257 of Set 1 | portland\n",
      "Processing record 258 of Set 1 | bubaque\n",
      "Processing record 259 of Set 1 | chabahar\n",
      "Processing record 260 of Set 1 | pochutla\n",
      "Record not found\n",
      "Record not found\n",
      "Processing record 261 of Set 1 | roald\n",
      "Processing record 262 of Set 1 | andrelandia\n",
      "Processing record 263 of Set 1 | filingue\n",
      "Processing record 264 of Set 1 | great bend\n",
      "Processing record 265 of Set 1 | murray bridge\n",
      "Processing record 266 of Set 1 | mucurapo\n",
      "Record not found\n",
      "Processing record 267 of Set 1 | vagur\n",
      "Processing record 268 of Set 1 | altay\n",
      "Record not found\n",
      "Record not found\n",
      "Processing record 269 of Set 1 | estelle\n",
      "Processing record 270 of Set 1 | mangai\n",
      "Processing record 271 of Set 1 | yangjiang\n",
      "Record not found\n",
      "Processing record 272 of Set 1 | vardo\n",
      "Processing record 273 of Set 1 | arivonimamo\n",
      "Processing record 274 of Set 1 | faya\n",
      "Processing record 275 of Set 1 | hirado\n",
      "Processing record 276 of Set 1 | guozhen\n",
      "Processing record 277 of Set 1 | muzhi\n",
      "Record not found\n",
      "Processing record 278 of Set 1 | emerald\n",
      "Processing record 279 of Set 1 | ferkessedougou\n",
      "Processing record 280 of Set 1 | son la\n",
      "Processing record 281 of Set 1 | frontera\n",
      "Processing record 282 of Set 1 | kabo\n",
      "Processing record 283 of Set 1 | vallenar\n",
      "Processing record 284 of Set 1 | santo antonio do ica\n",
      "Processing record 285 of Set 1 | lalmohan\n",
      "Processing record 286 of Set 1 | itarema\n",
      "Processing record 287 of Set 1 | kawalu\n",
      "Processing record 288 of Set 1 | sungaipenuh\n",
      "Processing record 289 of Set 1 | marawi\n",
      "Processing record 290 of Set 1 | kushmurun\n",
      "Processing record 291 of Set 1 | primero de enero\n",
      "Processing record 292 of Set 1 | kutum\n",
      "Processing record 293 of Set 1 | namatanai\n",
      "Processing record 294 of Set 1 | aras\n",
      "Processing record 295 of Set 1 | nanortalik\n",
      "Record not found\n",
      "Processing record 296 of Set 1 | ayan\n",
      "Processing record 297 of Set 1 | hambantota\n",
      "Processing record 298 of Set 1 | maracacume\n",
      "Processing record 299 of Set 1 | krasnogvardeyskiy\n",
      "Processing record 300 of Set 1 | pacific grove\n",
      "Processing record 301 of Set 1 | nynashamn\n",
      "Processing record 302 of Set 1 | talara\n",
      "Processing record 303 of Set 1 | praia da vitoria\n",
      "Processing record 304 of Set 1 | palamos\n",
      "Processing record 305 of Set 1 | goderich\n",
      "Processing record 306 of Set 1 | fasa\n",
      "Processing record 307 of Set 1 | ridgecrest\n",
      "Record not found\n",
      "Processing record 308 of Set 1 | vuktyl\n",
      "Processing record 309 of Set 1 | maumere\n",
      "Processing record 310 of Set 1 | salalah\n",
      "Processing record 311 of Set 1 | corinth\n",
      "Processing record 312 of Set 1 | salto del guaira\n",
      "Processing record 313 of Set 1 | westport\n",
      "Processing record 314 of Set 1 | puerto escondido\n",
      "Processing record 315 of Set 1 | guiratinga\n",
      "Processing record 316 of Set 1 | kismayo\n",
      "Processing record 317 of Set 1 | punta cardon\n",
      "Processing record 318 of Set 1 | stromness\n",
      "Processing record 319 of Set 1 | makakilo city\n",
      "Record not found\n",
      "Processing record 320 of Set 1 | starkville\n",
      "Processing record 321 of Set 1 | nagato\n",
      "Record not found\n",
      "Processing record 322 of Set 1 | datong\n",
      "Processing record 323 of Set 1 | maceio\n",
      "Processing record 324 of Set 1 | kalmunai\n",
      "Processing record 325 of Set 1 | comodoro rivadavia\n",
      "Record not found\n",
      "Processing record 326 of Set 1 | filadelfia\n",
      "Processing record 327 of Set 1 | sao domingos\n",
      "Processing record 328 of Set 1 | yambio\n",
      "Processing record 329 of Set 1 | fare\n",
      "Record not found\n",
      "Processing record 330 of Set 1 | itapirapua\n",
      "Processing record 331 of Set 1 | sola\n",
      "Processing record 332 of Set 1 | salisbury\n",
      "Processing record 333 of Set 1 | cidreira\n",
      "Processing record 334 of Set 1 | colares\n",
      "Processing record 335 of Set 1 | micheweni\n",
      "Processing record 336 of Set 1 | laguna\n",
      "Processing record 337 of Set 1 | ambanja\n",
      "Processing record 338 of Set 1 | tripoli\n",
      "Processing record 339 of Set 1 | rawson\n",
      "Processing record 340 of Set 1 | aykhal\n",
      "Processing record 341 of Set 1 | lorengau\n",
      "Processing record 342 of Set 1 | kudat\n",
      "Processing record 343 of Set 1 | collierville\n",
      "Processing record 344 of Set 1 | hovd\n",
      "Processing record 345 of Set 1 | abhayapuri\n",
      "Processing record 346 of Set 1 | wilmington\n",
      "Processing record 347 of Set 1 | santa isabel\n",
      "Processing record 348 of Set 1 | belyy yar\n",
      "Processing record 349 of Set 1 | chapais\n",
      "Processing record 350 of Set 1 | taltal\n",
      "Processing record 351 of Set 1 | sarh\n",
      "Processing record 352 of Set 1 | grand-lahou\n",
      "Processing record 353 of Set 1 | prince rupert\n",
      "Processing record 354 of Set 1 | vila franca do campo\n",
      "Processing record 355 of Set 1 | nome\n",
      "Processing record 356 of Set 1 | gazojak\n",
      "Processing record 357 of Set 1 | brasilia\n",
      "Processing record 358 of Set 1 | margate\n",
      "Processing record 359 of Set 1 | omaha\n",
      "Processing record 360 of Set 1 | boulder\n",
      "Processing record 361 of Set 1 | kichera\n",
      "Processing record 362 of Set 1 | andenes\n",
      "Processing record 363 of Set 1 | jijiga\n",
      "Processing record 364 of Set 1 | adrar\n",
      "Processing record 365 of Set 1 | iralaya\n",
      "Processing record 366 of Set 1 | samsun\n",
      "Processing record 367 of Set 1 | motygino\n",
      "Processing record 368 of Set 1 | quatre cocos\n",
      "Processing record 369 of Set 1 | kaa-khem\n",
      "Processing record 370 of Set 1 | clarence town\n",
      "Processing record 371 of Set 1 | ucluelet\n",
      "Processing record 372 of Set 1 | sao filipe\n",
      "Processing record 373 of Set 1 | oum hadjer\n",
      "Processing record 374 of Set 1 | magnitka\n",
      "Processing record 375 of Set 1 | catamarca\n"
     ]
    },
    {
     "name": "stdout",
     "output_type": "stream",
     "text": [
      "Record not found\n",
      "Processing record 376 of Set 1 | ketchikan\n",
      "Processing record 377 of Set 1 | trofors\n",
      "Processing record 378 of Set 1 | awjilah\n",
      "Processing record 379 of Set 1 | urumqi\n",
      "Processing record 380 of Set 1 | qasigiannguit\n",
      "Processing record 381 of Set 1 | changli\n",
      "Processing record 382 of Set 1 | guapore\n",
      "Processing record 383 of Set 1 | luderitz\n",
      "Processing record 384 of Set 1 | esperance\n",
      "Processing record 385 of Set 1 | amzya\n",
      "Processing record 386 of Set 1 | olafsvik\n",
      "Processing record 387 of Set 1 | sambava\n",
      "Processing record 388 of Set 1 | ponta do sol\n",
      "Processing record 389 of Set 1 | bemidji\n",
      "Processing record 390 of Set 1 | wahiawa\n",
      "Processing record 391 of Set 1 | kungurtug\n",
      "Record not found\n",
      "Processing record 392 of Set 1 | bambous virieux\n",
      "Record not found\n",
      "Processing record 393 of Set 1 | srednekolymsk\n",
      "Processing record 394 of Set 1 | baraya\n",
      "Processing record 395 of Set 1 | rio grande\n",
      "Record not found\n",
      "Processing record 396 of Set 1 | matara\n",
      "Processing record 397 of Set 1 | san antonio\n",
      "Record not found\n",
      "Processing record 398 of Set 1 | kavieng\n",
      "Record not found\n",
      "Record not found\n",
      "Processing record 399 of Set 1 | thinadhoo\n",
      "Processing record 400 of Set 1 | talnakh\n",
      "Record not found\n",
      "Processing record 401 of Set 1 | valparaiso\n",
      "Processing record 402 of Set 1 | shimoda\n",
      "Processing record 403 of Set 1 | lukovetskiy\n",
      "Processing record 404 of Set 1 | manokwari\n",
      "Processing record 405 of Set 1 | umiray\n",
      "Processing record 406 of Set 1 | grand island\n",
      "Processing record 407 of Set 1 | atambua\n",
      "Processing record 408 of Set 1 | qax\n",
      "Processing record 409 of Set 1 | tigil\n",
      "Processing record 410 of Set 1 | pozo colorado\n",
      "Processing record 411 of Set 1 | bajna\n",
      "Processing record 412 of Set 1 | huejuquilla el alto\n",
      "Processing record 413 of Set 1 | teknaf\n",
      "Processing record 414 of Set 1 | saint-louis\n",
      "Processing record 415 of Set 1 | peranamallur\n",
      "Processing record 416 of Set 1 | cockburn town\n",
      "Processing record 417 of Set 1 | dingle\n",
      "Processing record 418 of Set 1 | grove city\n",
      "Processing record 419 of Set 1 | severnyy\n",
      "Processing record 420 of Set 1 | khorramshahr\n",
      "Processing record 421 of Set 1 | shambu\n",
      "Processing record 422 of Set 1 | adolfo lopez mateos\n",
      "Processing record 423 of Set 1 | dunedin\n",
      "Processing record 424 of Set 1 | tadine\n",
      "Processing record 425 of Set 1 | tuatapere\n",
      "Processing record 426 of Set 1 | healesville\n",
      "Processing record 427 of Set 1 | ewa beach\n",
      "Processing record 428 of Set 1 | alindao\n",
      "Processing record 429 of Set 1 | tierra colorada\n",
      "Processing record 430 of Set 1 | boshnyakovo\n",
      "Processing record 431 of Set 1 | trinidad\n",
      "Processing record 432 of Set 1 | kavaratti\n",
      "Processing record 433 of Set 1 | ormara\n",
      "Processing record 434 of Set 1 | nantucket\n",
      "Processing record 435 of Set 1 | waingapu\n",
      "Processing record 436 of Set 1 | hasaki\n",
      "Processing record 437 of Set 1 | osorno\n",
      "Record not found\n",
      "Processing record 438 of Set 1 | zelenogorskiy\n",
      "Processing record 439 of Set 1 | fernandez\n",
      "Processing record 440 of Set 1 | ginda\n",
      "Processing record 441 of Set 1 | komsomolskiy\n",
      "Processing record 442 of Set 1 | nioro\n",
      "Processing record 443 of Set 1 | kumluca\n",
      "Processing record 444 of Set 1 | mareeba\n",
      "Processing record 445 of Set 1 | sukabumi\n",
      "Processing record 446 of Set 1 | walvis bay\n",
      "Processing record 447 of Set 1 | kahului\n",
      "Processing record 448 of Set 1 | naze\n",
      "Processing record 449 of Set 1 | xam nua\n",
      "Processing record 450 of Set 1 | omboue\n",
      "Record not found\n",
      "Processing record 451 of Set 1 | lasa\n",
      "Processing record 452 of Set 1 | kasaoka\n",
      "Processing record 453 of Set 1 | fairbanks\n",
      "Processing record 454 of Set 1 | saint-joseph\n",
      "Processing record 455 of Set 1 | sinjar\n",
      "Processing record 456 of Set 1 | ugoofaaru\n",
      "Processing record 457 of Set 1 | mayumba\n",
      "Processing record 458 of Set 1 | tiarei\n",
      "Processing record 459 of Set 1 | katherine\n",
      "Processing record 460 of Set 1 | zalesovo\n",
      "Processing record 461 of Set 1 | ostrovnoy\n",
      "Processing record 462 of Set 1 | calvinia\n",
      "Processing record 463 of Set 1 | kaniama\n",
      "Processing record 464 of Set 1 | rexburg\n",
      "Processing record 465 of Set 1 | kloulklubed\n",
      "Processing record 466 of Set 1 | floriano\n",
      "Processing record 467 of Set 1 | virginia beach\n",
      "Processing record 468 of Set 1 | tilichiki\n",
      "Record not found\n",
      "Processing record 469 of Set 1 | taoudenni\n",
      "Processing record 470 of Set 1 | aklavik\n",
      "Processing record 471 of Set 1 | karakol\n",
      "Record not found\n",
      "Processing record 472 of Set 1 | omsukchan\n",
      "Processing record 473 of Set 1 | puerto del rosario\n",
      "Processing record 474 of Set 1 | sirjan\n",
      "Processing record 475 of Set 1 | klaksvik\n",
      "Processing record 476 of Set 1 | soe\n",
      "Processing record 477 of Set 1 | vredendal\n",
      "Processing record 478 of Set 1 | pontianak\n",
      "Processing record 479 of Set 1 | harsin\n",
      "Processing record 480 of Set 1 | chicama\n",
      "Record not found\n",
      "Processing record 481 of Set 1 | coihaique\n",
      "Processing record 482 of Set 1 | kendari\n",
      "Processing record 483 of Set 1 | antofagasta\n",
      "Processing record 484 of Set 1 | carmen\n",
      "Processing record 485 of Set 1 | bondoukou\n",
      "Processing record 486 of Set 1 | aksu\n",
      "Processing record 487 of Set 1 | preili\n",
      "Processing record 488 of Set 1 | lianzhou\n",
      "Processing record 489 of Set 1 | mocuba\n",
      "Processing record 490 of Set 1 | prince george\n",
      "Processing record 491 of Set 1 | berlevag\n",
      "Processing record 492 of Set 1 | tateyama\n",
      "Record not found\n",
      "Processing record 493 of Set 1 | santo tomas\n",
      "Processing record 494 of Set 1 | dolton\n",
      "Processing record 495 of Set 1 | aitape\n",
      "Processing record 496 of Set 1 | richards bay\n",
      "Processing record 497 of Set 1 | mugur-aksy\n",
      "Processing record 498 of Set 1 | paidha\n",
      "Processing record 499 of Set 1 | hengyang\n",
      "Processing record 500 of Set 1 | holoby\n",
      "Processing record 501 of Set 1 | lasem\n",
      "Processing record 502 of Set 1 | fort payne\n",
      "Processing record 503 of Set 1 | oktyabrskoye\n",
      "Processing record 504 of Set 1 | novikovo\n",
      "Processing record 505 of Set 1 | verkhnyaya inta\n",
      "Processing record 506 of Set 1 | veraval\n",
      "Processing record 507 of Set 1 | north platte\n",
      "Processing record 508 of Set 1 | koumac\n",
      "Processing record 509 of Set 1 | trairi\n",
      "Processing record 510 of Set 1 | mattru\n",
      "Processing record 511 of Set 1 | tayoltita\n",
      "Processing record 512 of Set 1 | flin flon\n",
      "Processing record 513 of Set 1 | gostovici\n",
      "Processing record 514 of Set 1 | senanga\n",
      "Processing record 515 of Set 1 | letnik\n",
      "Processing record 516 of Set 1 | ustupo\n",
      "Processing record 517 of Set 1 | lobez\n",
      "Processing record 518 of Set 1 | matelandia\n",
      "Processing record 519 of Set 1 | pascagoula\n",
      "Processing record 520 of Set 1 | guerrero negro\n",
      "Processing record 521 of Set 1 | marsaxlokk\n",
      "Processing record 522 of Set 1 | tanout\n",
      "Processing record 523 of Set 1 | kiruna\n",
      "Processing record 524 of Set 1 | santa cruz del sur\n",
      "Processing record 525 of Set 1 | ilheus\n",
      "Processing record 526 of Set 1 | narayanganj\n",
      "Processing record 527 of Set 1 | hamilton\n",
      "Processing record 528 of Set 1 | bay roberts\n",
      "Processing record 529 of Set 1 | leh\n",
      "Processing record 530 of Set 1 | los llanos de aridane\n",
      "Processing record 531 of Set 1 | alta floresta\n",
      "Processing record 532 of Set 1 | surt\n",
      "Processing record 533 of Set 1 | sioux lookout\n",
      "Processing record 534 of Set 1 | masumbwe\n",
      "Processing record 535 of Set 1 | husavik\n",
      "Processing record 536 of Set 1 | mananara\n",
      "Processing record 537 of Set 1 | cruzeiro\n",
      "Processing record 538 of Set 1 | robe\n",
      "Processing record 539 of Set 1 | najran\n",
      "Processing record 540 of Set 1 | ahipara\n",
      "Processing record 541 of Set 1 | kamenka\n",
      "City Data Complete\n"
     ]
    }
   ],
   "source": [
    "# set up lists for each criteria\n",
    "cityname = []\n",
    "cloudiness = []\n",
    "country = []\n",
    "date = []\n",
    "humidity = []\n",
    "lat = []\n",
    "lng = []\n",
    "max_temp = []\n",
    "wind_speed = []\n",
    "count = 0\n",
    "    \n",
    "# Loop through each city in weather url\n",
    "\n",
    "for city in cities:\n",
    "    weather_response = requests.get(target_url + \"&q=\" + city + \"&units=Imperial\")\n",
    "    weather_json = weather_response.json()\n",
    "    try:\n",
    "        cityname.append(weather_json['city']['name'])\n",
    "        cloudiness.append(weather_json['list'][0]['clouds']['all'])\n",
    "        country.append(weather_json['city']['country'])\n",
    "        date.append(weather_json['list'][0]['dt'])\n",
    "        humidity.append(weather_json['list'][0]['main']['humidity'])\n",
    "        lat.append(weather_json['city']['coord']['lat'])\n",
    "        lng.append(weather_json['city']['coord']['lon'])\n",
    "        max_temp.append(weather_json['list'][0]['main']['temp_max'])\n",
    "        wind_speed.append(weather_json['list'][0]['wind']['speed'])\n",
    "        count = count + 1\n",
    "        print(f\"Processing record {count} of Set 1 | {city}\")\n",
    "    except:\n",
    "        print(\"Record not found\") \n",
    "        pass\n",
    "        \n",
    "print(\"City Data Complete\")"
   ]
  },
  {
   "cell_type": "markdown",
   "metadata": {},
   "source": [
    "### Convert Raw Data to DataFrame\n",
    "* Export the city data into a .csv.\n",
    "* Display the DataFrame"
   ]
  },
  {
   "cell_type": "code",
   "execution_count": 90,
   "metadata": {},
   "outputs": [
    {
     "data": {
      "text/html": [
       "<div>\n",
       "<style scoped>\n",
       "    .dataframe tbody tr th:only-of-type {\n",
       "        vertical-align: middle;\n",
       "    }\n",
       "\n",
       "    .dataframe tbody tr th {\n",
       "        vertical-align: top;\n",
       "    }\n",
       "\n",
       "    .dataframe thead th {\n",
       "        text-align: right;\n",
       "    }\n",
       "</style>\n",
       "<table border=\"1\" class=\"dataframe\">\n",
       "  <thead>\n",
       "    <tr style=\"text-align: right;\">\n",
       "      <th></th>\n",
       "      <th>City</th>\n",
       "      <th>Country</th>\n",
       "      <th>Date</th>\n",
       "      <th>Max Temp</th>\n",
       "      <th>Humidity</th>\n",
       "      <th>Cloudiness</th>\n",
       "      <th>Wind Speed</th>\n",
       "      <th>Latitude</th>\n",
       "      <th>Longitude</th>\n",
       "    </tr>\n",
       "  </thead>\n",
       "  <tbody>\n",
       "    <tr>\n",
       "      <th>0</th>\n",
       "      <td>Punta Arenas</td>\n",
       "      <td>CL</td>\n",
       "      <td>1603627200</td>\n",
       "      <td>44.02</td>\n",
       "      <td>90</td>\n",
       "      <td>95</td>\n",
       "      <td>2.24</td>\n",
       "      <td>-53.1500</td>\n",
       "      <td>-70.9167</td>\n",
       "    </tr>\n",
       "    <tr>\n",
       "      <th>1</th>\n",
       "      <td>Rikitea</td>\n",
       "      <td>PF</td>\n",
       "      <td>1603627200</td>\n",
       "      <td>73.15</td>\n",
       "      <td>83</td>\n",
       "      <td>100</td>\n",
       "      <td>5.12</td>\n",
       "      <td>-23.1203</td>\n",
       "      <td>-134.9692</td>\n",
       "    </tr>\n",
       "    <tr>\n",
       "      <th>2</th>\n",
       "      <td>Coruripe</td>\n",
       "      <td>BR</td>\n",
       "      <td>1603627200</td>\n",
       "      <td>83.88</td>\n",
       "      <td>70</td>\n",
       "      <td>65</td>\n",
       "      <td>11.30</td>\n",
       "      <td>-10.1256</td>\n",
       "      <td>-36.1756</td>\n",
       "    </tr>\n",
       "    <tr>\n",
       "      <th>3</th>\n",
       "      <td>Butaritari</td>\n",
       "      <td>KI</td>\n",
       "      <td>1603627200</td>\n",
       "      <td>81.14</td>\n",
       "      <td>71</td>\n",
       "      <td>97</td>\n",
       "      <td>8.14</td>\n",
       "      <td>3.0707</td>\n",
       "      <td>172.7902</td>\n",
       "    </tr>\n",
       "    <tr>\n",
       "      <th>4</th>\n",
       "      <td>Iqaluit</td>\n",
       "      <td>CA</td>\n",
       "      <td>1603627200</td>\n",
       "      <td>14.04</td>\n",
       "      <td>84</td>\n",
       "      <td>40</td>\n",
       "      <td>6.82</td>\n",
       "      <td>63.7506</td>\n",
       "      <td>-68.5145</td>\n",
       "    </tr>\n",
       "    <tr>\n",
       "      <th>...</th>\n",
       "      <td>...</td>\n",
       "      <td>...</td>\n",
       "      <td>...</td>\n",
       "      <td>...</td>\n",
       "      <td>...</td>\n",
       "      <td>...</td>\n",
       "      <td>...</td>\n",
       "      <td>...</td>\n",
       "      <td>...</td>\n",
       "    </tr>\n",
       "    <tr>\n",
       "      <th>536</th>\n",
       "      <td>Cruzeiro</td>\n",
       "      <td>BR</td>\n",
       "      <td>1603627200</td>\n",
       "      <td>76.23</td>\n",
       "      <td>81</td>\n",
       "      <td>80</td>\n",
       "      <td>0.74</td>\n",
       "      <td>-22.5761</td>\n",
       "      <td>-44.9628</td>\n",
       "    </tr>\n",
       "    <tr>\n",
       "      <th>537</th>\n",
       "      <td>Robe</td>\n",
       "      <td>AU</td>\n",
       "      <td>1603627200</td>\n",
       "      <td>50.45</td>\n",
       "      <td>66</td>\n",
       "      <td>15</td>\n",
       "      <td>20.89</td>\n",
       "      <td>-37.1833</td>\n",
       "      <td>139.7500</td>\n",
       "    </tr>\n",
       "    <tr>\n",
       "      <th>538</th>\n",
       "      <td>Najrān</td>\n",
       "      <td>SA</td>\n",
       "      <td>1603627200</td>\n",
       "      <td>85.55</td>\n",
       "      <td>12</td>\n",
       "      <td>0</td>\n",
       "      <td>13.09</td>\n",
       "      <td>17.4924</td>\n",
       "      <td>44.1277</td>\n",
       "    </tr>\n",
       "    <tr>\n",
       "      <th>539</th>\n",
       "      <td>Ahipara</td>\n",
       "      <td>NZ</td>\n",
       "      <td>1603627200</td>\n",
       "      <td>57.88</td>\n",
       "      <td>91</td>\n",
       "      <td>3</td>\n",
       "      <td>3.89</td>\n",
       "      <td>-35.1667</td>\n",
       "      <td>173.1667</td>\n",
       "    </tr>\n",
       "    <tr>\n",
       "      <th>540</th>\n",
       "      <td>Kamenka</td>\n",
       "      <td>RU</td>\n",
       "      <td>1603627200</td>\n",
       "      <td>51.31</td>\n",
       "      <td>75</td>\n",
       "      <td>81</td>\n",
       "      <td>18.34</td>\n",
       "      <td>51.3223</td>\n",
       "      <td>42.7678</td>\n",
       "    </tr>\n",
       "  </tbody>\n",
       "</table>\n",
       "<p>541 rows × 9 columns</p>\n",
       "</div>"
      ],
      "text/plain": [
       "             City Country        Date  Max Temp  Humidity  Cloudiness  \\\n",
       "0    Punta Arenas      CL  1603627200     44.02        90          95   \n",
       "1         Rikitea      PF  1603627200     73.15        83         100   \n",
       "2        Coruripe      BR  1603627200     83.88        70          65   \n",
       "3      Butaritari      KI  1603627200     81.14        71          97   \n",
       "4         Iqaluit      CA  1603627200     14.04        84          40   \n",
       "..            ...     ...         ...       ...       ...         ...   \n",
       "536      Cruzeiro      BR  1603627200     76.23        81          80   \n",
       "537          Robe      AU  1603627200     50.45        66          15   \n",
       "538        Najrān      SA  1603627200     85.55        12           0   \n",
       "539       Ahipara      NZ  1603627200     57.88        91           3   \n",
       "540       Kamenka      RU  1603627200     51.31        75          81   \n",
       "\n",
       "     Wind Speed  Latitude  Longitude  \n",
       "0          2.24  -53.1500   -70.9167  \n",
       "1          5.12  -23.1203  -134.9692  \n",
       "2         11.30  -10.1256   -36.1756  \n",
       "3          8.14    3.0707   172.7902  \n",
       "4          6.82   63.7506   -68.5145  \n",
       "..          ...       ...        ...  \n",
       "536        0.74  -22.5761   -44.9628  \n",
       "537       20.89  -37.1833   139.7500  \n",
       "538       13.09   17.4924    44.1277  \n",
       "539        3.89  -35.1667   173.1667  \n",
       "540       18.34   51.3223    42.7678  \n",
       "\n",
       "[541 rows x 9 columns]"
      ]
     },
     "execution_count": 90,
     "metadata": {},
     "output_type": "execute_result"
    }
   ],
   "source": [
    "#weather dataframe\n",
    "weather_info = {\"City\": cityname,\n",
    "                \"Country\":country,\n",
    "                \"Date\":date,\n",
    "                \"Max Temp\":max_temp,\n",
    "                \"Humidity\":humidity,\n",
    "                \"Cloudiness\":cloudiness,\n",
    "                \"Wind Speed\":wind_speed,\n",
    "                \"Latitude\": lat, \n",
    "                \"Longitude\":lng}\n",
    "city_weather_data = pd.DataFrame(weather_info)\n",
    "city_weather_data"
   ]
  },
  {
   "cell_type": "code",
   "execution_count": 112,
   "metadata": {},
   "outputs": [],
   "source": [
    "#export to csv\n",
    "city_weather_data.to_csv(r'city_weather.csv')"
   ]
  },
  {
   "cell_type": "markdown",
   "metadata": {},
   "source": [
    "### Cleaning Data: Remove Cities with humidity >100"
   ]
  },
  {
   "cell_type": "code",
   "execution_count": 92,
   "metadata": {},
   "outputs": [
    {
     "data": {
      "text/html": [
       "<div>\n",
       "<style scoped>\n",
       "    .dataframe tbody tr th:only-of-type {\n",
       "        vertical-align: middle;\n",
       "    }\n",
       "\n",
       "    .dataframe tbody tr th {\n",
       "        vertical-align: top;\n",
       "    }\n",
       "\n",
       "    .dataframe thead th {\n",
       "        text-align: right;\n",
       "    }\n",
       "</style>\n",
       "<table border=\"1\" class=\"dataframe\">\n",
       "  <thead>\n",
       "    <tr style=\"text-align: right;\">\n",
       "      <th></th>\n",
       "      <th>City</th>\n",
       "      <th>Country</th>\n",
       "      <th>Date</th>\n",
       "      <th>Max Temp</th>\n",
       "      <th>Humidity</th>\n",
       "      <th>Cloudiness</th>\n",
       "      <th>Wind Speed</th>\n",
       "      <th>Latitude</th>\n",
       "      <th>Longitude</th>\n",
       "    </tr>\n",
       "  </thead>\n",
       "  <tbody>\n",
       "    <tr>\n",
       "      <th>103</th>\n",
       "      <td>Torbay</td>\n",
       "      <td>CA</td>\n",
       "      <td>1603627200</td>\n",
       "      <td>49.98</td>\n",
       "      <td>99</td>\n",
       "      <td>95</td>\n",
       "      <td>15.79</td>\n",
       "      <td>47.6666</td>\n",
       "      <td>-52.7314</td>\n",
       "    </tr>\n",
       "    <tr>\n",
       "      <th>245</th>\n",
       "      <td>Mnogovershinnyy</td>\n",
       "      <td>RU</td>\n",
       "      <td>1603627200</td>\n",
       "      <td>36.10</td>\n",
       "      <td>99</td>\n",
       "      <td>100</td>\n",
       "      <td>13.20</td>\n",
       "      <td>53.9353</td>\n",
       "      <td>139.9242</td>\n",
       "    </tr>\n",
       "    <tr>\n",
       "      <th>522</th>\n",
       "      <td>Kiruna</td>\n",
       "      <td>SE</td>\n",
       "      <td>1603627200</td>\n",
       "      <td>28.17</td>\n",
       "      <td>99</td>\n",
       "      <td>91</td>\n",
       "      <td>3.22</td>\n",
       "      <td>67.8557</td>\n",
       "      <td>20.2251</td>\n",
       "    </tr>\n",
       "    <tr>\n",
       "      <th>171</th>\n",
       "      <td>Gari</td>\n",
       "      <td>RU</td>\n",
       "      <td>1603627200</td>\n",
       "      <td>31.35</td>\n",
       "      <td>99</td>\n",
       "      <td>95</td>\n",
       "      <td>2.10</td>\n",
       "      <td>59.4307</td>\n",
       "      <td>62.3497</td>\n",
       "    </tr>\n",
       "    <tr>\n",
       "      <th>307</th>\n",
       "      <td>Vuktyl</td>\n",
       "      <td>RU</td>\n",
       "      <td>1603627200</td>\n",
       "      <td>26.94</td>\n",
       "      <td>98</td>\n",
       "      <td>100</td>\n",
       "      <td>7.61</td>\n",
       "      <td>63.8567</td>\n",
       "      <td>57.3094</td>\n",
       "    </tr>\n",
       "    <tr>\n",
       "      <th>...</th>\n",
       "      <td>...</td>\n",
       "      <td>...</td>\n",
       "      <td>...</td>\n",
       "      <td>...</td>\n",
       "      <td>...</td>\n",
       "      <td>...</td>\n",
       "      <td>...</td>\n",
       "      <td>...</td>\n",
       "      <td>...</td>\n",
       "    </tr>\n",
       "    <tr>\n",
       "      <th>478</th>\n",
       "      <td>Harsīn</td>\n",
       "      <td>IR</td>\n",
       "      <td>1603627200</td>\n",
       "      <td>79.97</td>\n",
       "      <td>10</td>\n",
       "      <td>0</td>\n",
       "      <td>7.07</td>\n",
       "      <td>34.2721</td>\n",
       "      <td>47.5861</td>\n",
       "    </tr>\n",
       "    <tr>\n",
       "      <th>239</th>\n",
       "      <td>Djibo</td>\n",
       "      <td>BF</td>\n",
       "      <td>1603627200</td>\n",
       "      <td>98.10</td>\n",
       "      <td>10</td>\n",
       "      <td>0</td>\n",
       "      <td>14.83</td>\n",
       "      <td>14.1022</td>\n",
       "      <td>-1.6306</td>\n",
       "    </tr>\n",
       "    <tr>\n",
       "      <th>262</th>\n",
       "      <td>Filingué</td>\n",
       "      <td>NE</td>\n",
       "      <td>1603627200</td>\n",
       "      <td>97.95</td>\n",
       "      <td>10</td>\n",
       "      <td>59</td>\n",
       "      <td>10.89</td>\n",
       "      <td>14.3521</td>\n",
       "      <td>3.3168</td>\n",
       "    </tr>\n",
       "    <tr>\n",
       "      <th>513</th>\n",
       "      <td>Senanga</td>\n",
       "      <td>ZM</td>\n",
       "      <td>1603627200</td>\n",
       "      <td>102.52</td>\n",
       "      <td>9</td>\n",
       "      <td>0</td>\n",
       "      <td>10.07</td>\n",
       "      <td>-16.1167</td>\n",
       "      <td>23.2667</td>\n",
       "    </tr>\n",
       "    <tr>\n",
       "      <th>208</th>\n",
       "      <td>Douentza</td>\n",
       "      <td>ML</td>\n",
       "      <td>1603627200</td>\n",
       "      <td>97.81</td>\n",
       "      <td>9</td>\n",
       "      <td>0</td>\n",
       "      <td>11.83</td>\n",
       "      <td>14.9951</td>\n",
       "      <td>-2.9517</td>\n",
       "    </tr>\n",
       "  </tbody>\n",
       "</table>\n",
       "<p>541 rows × 9 columns</p>\n",
       "</div>"
      ],
      "text/plain": [
       "                City Country        Date  Max Temp  Humidity  Cloudiness  \\\n",
       "103           Torbay      CA  1603627200     49.98        99          95   \n",
       "245  Mnogovershinnyy      RU  1603627200     36.10        99         100   \n",
       "522           Kiruna      SE  1603627200     28.17        99          91   \n",
       "171             Gari      RU  1603627200     31.35        99          95   \n",
       "307           Vuktyl      RU  1603627200     26.94        98         100   \n",
       "..               ...     ...         ...       ...       ...         ...   \n",
       "478           Harsīn      IR  1603627200     79.97        10           0   \n",
       "239            Djibo      BF  1603627200     98.10        10           0   \n",
       "262         Filingué      NE  1603627200     97.95        10          59   \n",
       "513          Senanga      ZM  1603627200    102.52         9           0   \n",
       "208         Douentza      ML  1603627200     97.81         9           0   \n",
       "\n",
       "     Wind Speed  Latitude  Longitude  \n",
       "103       15.79   47.6666   -52.7314  \n",
       "245       13.20   53.9353   139.9242  \n",
       "522        3.22   67.8557    20.2251  \n",
       "171        2.10   59.4307    62.3497  \n",
       "307        7.61   63.8567    57.3094  \n",
       "..          ...       ...        ...  \n",
       "478        7.07   34.2721    47.5861  \n",
       "239       14.83   14.1022    -1.6306  \n",
       "262       10.89   14.3521     3.3168  \n",
       "513       10.07  -16.1167    23.2667  \n",
       "208       11.83   14.9951    -2.9517  \n",
       "\n",
       "[541 rows x 9 columns]"
      ]
     },
     "execution_count": 92,
     "metadata": {},
     "output_type": "execute_result"
    }
   ],
   "source": [
    "#ID cities with humidity >100\n",
    "city_weather_data = city_weather_data.sort_values([\"Humidity\"], ascending=False)\n",
    "city_weather_data"
   ]
  },
  {
   "cell_type": "code",
   "execution_count": 93,
   "metadata": {},
   "outputs": [],
   "source": [
    "#clean data: remove cities that have humidity over 100\n",
    "clean_city_weather = city_weather_data\n",
    "clean_city_weather.drop(clean_city_weather.loc[clean_city_weather[\"City\"]=='Panguna'].index, inplace=True)"
   ]
  },
  {
   "cell_type": "code",
   "execution_count": 94,
   "metadata": {},
   "outputs": [],
   "source": [
    "clean_city_weather.drop(clean_city_weather.loc[clean_city_weather[\"City\"]=='Vostok'].index, inplace=True)\n"
   ]
  },
  {
   "cell_type": "code",
   "execution_count": 95,
   "metadata": {},
   "outputs": [
    {
     "data": {
      "text/html": [
       "<div>\n",
       "<style scoped>\n",
       "    .dataframe tbody tr th:only-of-type {\n",
       "        vertical-align: middle;\n",
       "    }\n",
       "\n",
       "    .dataframe tbody tr th {\n",
       "        vertical-align: top;\n",
       "    }\n",
       "\n",
       "    .dataframe thead th {\n",
       "        text-align: right;\n",
       "    }\n",
       "</style>\n",
       "<table border=\"1\" class=\"dataframe\">\n",
       "  <thead>\n",
       "    <tr style=\"text-align: right;\">\n",
       "      <th></th>\n",
       "      <th>City</th>\n",
       "      <th>Country</th>\n",
       "      <th>Date</th>\n",
       "      <th>Max Temp</th>\n",
       "      <th>Humidity</th>\n",
       "      <th>Cloudiness</th>\n",
       "      <th>Wind Speed</th>\n",
       "      <th>Latitude</th>\n",
       "      <th>Longitude</th>\n",
       "    </tr>\n",
       "  </thead>\n",
       "  <tbody>\n",
       "    <tr>\n",
       "      <th>103</th>\n",
       "      <td>Torbay</td>\n",
       "      <td>CA</td>\n",
       "      <td>1603627200</td>\n",
       "      <td>49.98</td>\n",
       "      <td>99</td>\n",
       "      <td>95</td>\n",
       "      <td>15.79</td>\n",
       "      <td>47.6666</td>\n",
       "      <td>-52.7314</td>\n",
       "    </tr>\n",
       "    <tr>\n",
       "      <th>522</th>\n",
       "      <td>Kiruna</td>\n",
       "      <td>SE</td>\n",
       "      <td>1603627200</td>\n",
       "      <td>28.17</td>\n",
       "      <td>99</td>\n",
       "      <td>91</td>\n",
       "      <td>3.22</td>\n",
       "      <td>67.8557</td>\n",
       "      <td>20.2251</td>\n",
       "    </tr>\n",
       "    <tr>\n",
       "      <th>171</th>\n",
       "      <td>Gari</td>\n",
       "      <td>RU</td>\n",
       "      <td>1603627200</td>\n",
       "      <td>31.35</td>\n",
       "      <td>99</td>\n",
       "      <td>95</td>\n",
       "      <td>2.10</td>\n",
       "      <td>59.4307</td>\n",
       "      <td>62.3497</td>\n",
       "    </tr>\n",
       "    <tr>\n",
       "      <th>245</th>\n",
       "      <td>Mnogovershinnyy</td>\n",
       "      <td>RU</td>\n",
       "      <td>1603627200</td>\n",
       "      <td>36.10</td>\n",
       "      <td>99</td>\n",
       "      <td>100</td>\n",
       "      <td>13.20</td>\n",
       "      <td>53.9353</td>\n",
       "      <td>139.9242</td>\n",
       "    </tr>\n",
       "    <tr>\n",
       "      <th>307</th>\n",
       "      <td>Vuktyl</td>\n",
       "      <td>RU</td>\n",
       "      <td>1603627200</td>\n",
       "      <td>26.94</td>\n",
       "      <td>98</td>\n",
       "      <td>100</td>\n",
       "      <td>7.61</td>\n",
       "      <td>63.8567</td>\n",
       "      <td>57.3094</td>\n",
       "    </tr>\n",
       "    <tr>\n",
       "      <th>...</th>\n",
       "      <td>...</td>\n",
       "      <td>...</td>\n",
       "      <td>...</td>\n",
       "      <td>...</td>\n",
       "      <td>...</td>\n",
       "      <td>...</td>\n",
       "      <td>...</td>\n",
       "      <td>...</td>\n",
       "      <td>...</td>\n",
       "    </tr>\n",
       "    <tr>\n",
       "      <th>478</th>\n",
       "      <td>Harsīn</td>\n",
       "      <td>IR</td>\n",
       "      <td>1603627200</td>\n",
       "      <td>79.97</td>\n",
       "      <td>10</td>\n",
       "      <td>0</td>\n",
       "      <td>7.07</td>\n",
       "      <td>34.2721</td>\n",
       "      <td>47.5861</td>\n",
       "    </tr>\n",
       "    <tr>\n",
       "      <th>239</th>\n",
       "      <td>Djibo</td>\n",
       "      <td>BF</td>\n",
       "      <td>1603627200</td>\n",
       "      <td>98.10</td>\n",
       "      <td>10</td>\n",
       "      <td>0</td>\n",
       "      <td>14.83</td>\n",
       "      <td>14.1022</td>\n",
       "      <td>-1.6306</td>\n",
       "    </tr>\n",
       "    <tr>\n",
       "      <th>262</th>\n",
       "      <td>Filingué</td>\n",
       "      <td>NE</td>\n",
       "      <td>1603627200</td>\n",
       "      <td>97.95</td>\n",
       "      <td>10</td>\n",
       "      <td>59</td>\n",
       "      <td>10.89</td>\n",
       "      <td>14.3521</td>\n",
       "      <td>3.3168</td>\n",
       "    </tr>\n",
       "    <tr>\n",
       "      <th>513</th>\n",
       "      <td>Senanga</td>\n",
       "      <td>ZM</td>\n",
       "      <td>1603627200</td>\n",
       "      <td>102.52</td>\n",
       "      <td>9</td>\n",
       "      <td>0</td>\n",
       "      <td>10.07</td>\n",
       "      <td>-16.1167</td>\n",
       "      <td>23.2667</td>\n",
       "    </tr>\n",
       "    <tr>\n",
       "      <th>208</th>\n",
       "      <td>Douentza</td>\n",
       "      <td>ML</td>\n",
       "      <td>1603627200</td>\n",
       "      <td>97.81</td>\n",
       "      <td>9</td>\n",
       "      <td>0</td>\n",
       "      <td>11.83</td>\n",
       "      <td>14.9951</td>\n",
       "      <td>-2.9517</td>\n",
       "    </tr>\n",
       "  </tbody>\n",
       "</table>\n",
       "<p>541 rows × 9 columns</p>\n",
       "</div>"
      ],
      "text/plain": [
       "                City Country        Date  Max Temp  Humidity  Cloudiness  \\\n",
       "103           Torbay      CA  1603627200     49.98        99          95   \n",
       "522           Kiruna      SE  1603627200     28.17        99          91   \n",
       "171             Gari      RU  1603627200     31.35        99          95   \n",
       "245  Mnogovershinnyy      RU  1603627200     36.10        99         100   \n",
       "307           Vuktyl      RU  1603627200     26.94        98         100   \n",
       "..               ...     ...         ...       ...       ...         ...   \n",
       "478           Harsīn      IR  1603627200     79.97        10           0   \n",
       "239            Djibo      BF  1603627200     98.10        10           0   \n",
       "262         Filingué      NE  1603627200     97.95        10          59   \n",
       "513          Senanga      ZM  1603627200    102.52         9           0   \n",
       "208         Douentza      ML  1603627200     97.81         9           0   \n",
       "\n",
       "     Wind Speed  Latitude  Longitude  \n",
       "103       15.79   47.6666   -52.7314  \n",
       "522        3.22   67.8557    20.2251  \n",
       "171        2.10   59.4307    62.3497  \n",
       "245       13.20   53.9353   139.9242  \n",
       "307        7.61   63.8567    57.3094  \n",
       "..          ...       ...        ...  \n",
       "478        7.07   34.2721    47.5861  \n",
       "239       14.83   14.1022    -1.6306  \n",
       "262       10.89   14.3521     3.3168  \n",
       "513       10.07  -16.1167    23.2667  \n",
       "208       11.83   14.9951    -2.9517  \n",
       "\n",
       "[541 rows x 9 columns]"
      ]
     },
     "execution_count": 95,
     "metadata": {},
     "output_type": "execute_result"
    }
   ],
   "source": [
    "clean_city_weather = clean_city_weather.sort_values([\"Humidity\"], ascending=False)\n",
    "clean_city_weather"
   ]
  },
  {
   "cell_type": "markdown",
   "metadata": {},
   "source": [
    "## Plotting the Data\n",
    "* Use proper labeling of the plots using plot titles (including date of analysis) and axes labels.\n",
    "* Save the plotted figures as .pngs."
   ]
  },
  {
   "cell_type": "markdown",
   "metadata": {},
   "source": [
    "## Latitude vs. Temperature Plot"
   ]
  },
  {
   "cell_type": "code",
   "execution_count": 96,
   "metadata": {
    "scrolled": true
   },
   "outputs": [
    {
     "data": {
      "image/png": "[encoded data removed]",
      "text/plain": [
       "<Figure size 432x288 with 1 Axes>"
      ]
     },
     "metadata": {
      "needs_background": "light"
     },
     "output_type": "display_data"
    }
   ],
   "source": [
    "lat = clean_city_weather[\"Latitude\"]\n",
    "temp = clean_city_weather[\"Max Temp\"]\n",
    "\n",
    "plt.scatter(clean_city_weather[\"Latitude\"],clean_city_weather[\"Max Temp\"],facecolors=\"green\",edgecolors=\"black\")\n",
    "plt.title('Latitude vs. Max Temperature (F)')\n",
    "plt.xlabel('Latitude')\n",
    "plt.ylabel('Max Temperature (F)')\n",
    "plt.grid (b=True,which=\"major\",axis=\"both\",linestyle=\"-\")\n",
    "\n",
    "#saving figure\n",
    "plt.savefig('output_weather/lat_temp_plot.png')\n",
    "\n",
    "#This code is using matplotlib to create a scatter plot that analyzes the max temperature of a city and its latitude.\n",
    "\n"
   ]
  },
  {
   "cell_type": "markdown",
   "metadata": {},
   "source": [
    "## Latitude vs. Humidity Plot"
   ]
  },
  {
   "cell_type": "code",
   "execution_count": 97,
   "metadata": {},
   "outputs": [
    {
     "data": {
      "image/png": "[encoded data removed]",
      "text/plain": [
       "<Figure size 432x288 with 1 Axes>"
      ]
     },
     "metadata": {
      "needs_background": "light"
     },
     "output_type": "display_data"
    }
   ],
   "source": [
    "lat = clean_city_weather[\"Latitude\"]\n",
    "humidity = clean_city_weather[\"Humidity\"]\n",
    "\n",
    "plt.scatter(clean_city_weather[\"Latitude\"],clean_city_weather[\"Humidity\"],facecolors=\"green\",edgecolors=\"black\")\n",
    "plt.title('Latitude vs. Humidity')\n",
    "plt.xlabel('Latitude')\n",
    "plt.ylabel('Humidity')\n",
    "plt.grid (b=True,which=\"major\",axis=\"both\",linestyle=\"-\")\n",
    "\n",
    "#saving figure\n",
    "plt.savefig('output_weather/lat_humidity_plot.png')\n",
    "\n",
    "#This code is using matplotlib to create a scatter plot that analyzes the max temperature of a city and its humidity."
   ]
  },
  {
   "cell_type": "markdown",
   "metadata": {},
   "source": [
    "## Latitude vs. Cloudiness Plot"
   ]
  },
  {
   "cell_type": "code",
   "execution_count": 98,
   "metadata": {},
   "outputs": [
    {
     "data": {
      "image/png": "[encoded data removed]",
      "text/plain": [
       "<Figure size 432x288 with 1 Axes>"
      ]
     },
     "metadata": {
      "needs_background": "light"
     },
     "output_type": "display_data"
    }
   ],
   "source": [
    "lat = clean_city_weather[\"Latitude\"]\n",
    "cloudiness = clean_city_weather[\"Cloudiness\"]\n",
    "\n",
    "plt.scatter(clean_city_weather[\"Latitude\"],clean_city_weather[\"Cloudiness\"],facecolors=\"green\",edgecolors=\"black\")\n",
    "plt.title('Latitude vs. Cloudiness (%)')\n",
    "plt.xlabel('Latitude')\n",
    "plt.ylabel('Cloudiness (%)')\n",
    "plt.grid (b=True,which=\"major\",axis=\"both\",linestyle=\"-\")\n",
    "\n",
    "#saving figure\n",
    "plt.savefig('output_weather/lat_cloudiness_plot.png')\n",
    "\n",
    "#This code is using matplotlib to create a scatter plot that analyzes the max temperature of a city and its cloudiness."
   ]
  },
  {
   "cell_type": "markdown",
   "metadata": {},
   "source": [
    "## Latitude vs. Wind Speed Plot"
   ]
  },
  {
   "cell_type": "code",
   "execution_count": 99,
   "metadata": {},
   "outputs": [
    {
     "data": {
      "image/png": "[encoded data removed]",
      "text/plain": [
       "<Figure size 432x288 with 1 Axes>"
      ]
     },
     "metadata": {
      "needs_background": "light"
     },
     "output_type": "display_data"
    }
   ],
   "source": [
    "lat = clean_city_weather[\"Latitude\"]\n",
    "wind_speed = clean_city_weather[\"Wind Speed\"]\n",
    "\n",
    "plt.scatter(clean_city_weather[\"Latitude\"],clean_city_weather[\"Wind Speed\"],facecolors=\"green\",edgecolors=\"black\")\n",
    "plt.title('Latitude vs. Wind Speed (mph)')\n",
    "plt.xlabel('Latitude')\n",
    "plt.ylabel('Wind Speed')\n",
    "plt.grid (b=True,which=\"major\",axis=\"both\",linestyle=\"-\")\n",
    "\n",
    "#saving figure\n",
    "plt.savefig('output_weather/lat_windspeed_plot.png')\n",
    "\n",
    "#This code is using matplotlib to create a scatter plot that analyzes the max temperature of a city and its wind speed."
   ]
  },
  {
   "cell_type": "markdown",
   "metadata": {},
   "source": [
    "## Linear Regression"
   ]
  },
  {
   "cell_type": "code",
   "execution_count": 100,
   "metadata": {},
   "outputs": [],
   "source": [
    "# Add the linear regression equation and line to plot\n",
    "def linear_reg(x_values,y_values):\n",
    "    (slope, intercept, rvalue, pvalue, stderr) = linregress(x_values, y_values)\n",
    "    regress_values = x_values * slope + intercept\n",
    "    line_eq = \"y = \" + str(round(slope,2)) + \"x + \" + str(round(intercept,2))\n",
    "    plt.scatter(x_values,y_values)\n",
    "    plt.plot(x_values,regress_values,\"r-\")\n",
    "    plt.annotate(line_eq,(x_values.median(),y_values.median()),fontsize=12,color=\"red\")\n",
    "    plt.xlabel(\"Latitude\")\n",
    "    print(f\"The r-squared is: {rvalue}\")\n",
    "    plt.show()"
   ]
  },
  {
   "cell_type": "code",
   "execution_count": 101,
   "metadata": {},
   "outputs": [],
   "source": [
    "#Create Northern and Southern Hemisphere DataFrames\n",
    "nhemi = city_weather_data.loc[city_weather_data[\"Latitude\"]>0]\n",
    "shemi = city_weather_data.loc[city_weather_data[\"Latitude\"]<0]"
   ]
  },
  {
   "cell_type": "markdown",
   "metadata": {},
   "source": [
    "####  Northern Hemisphere - Max Temp vs. Latitude Linear Regression"
   ]
  },
  {
   "cell_type": "code",
   "execution_count": 103,
   "metadata": {},
   "outputs": [
    {
     "name": "stdout",
     "output_type": "stream",
     "text": [
      "The r-squared is: -0.8592238867153817\n"
     ]
    },
    {
     "data": {
      "image/png": "[encoded data removed]",
      "text/plain": [
       "<Figure size 432x288 with 1 Axes>"
      ]
     },
     "metadata": {
      "needs_background": "light"
     },
     "output_type": "display_data"
    },
    {
     "name": "stdout",
     "output_type": "stream",
     "text": [
      "None\n"
     ]
    }
   ],
   "source": [
    "x_values = nhemi[\"Latitude\"]\n",
    "y_values = nhemi[\"Max Temp\"]\n",
    "plt.title('N. Hemisphere:Latitude vs. Max Temperature (F)')\n",
    "plt.ylabel(\"Max Temp (F)\")\n",
    "print(linear_reg(x_values,y_values))\n",
    "\n",
    "#observation: strong negative correlation (r value = -0.88), in N. Hem as Lat increases max temp decreases\n",
    "#moving away from the equator"
   ]
  },
  {
   "cell_type": "markdown",
   "metadata": {},
   "source": [
    "####  Southern Hemisphere - Max Temp vs. Latitude Linear Regression"
   ]
  },
  {
   "cell_type": "code",
   "execution_count": 104,
   "metadata": {},
   "outputs": [
    {
     "name": "stdout",
     "output_type": "stream",
     "text": [
      "The r-squared is: 0.7875847756781865\n"
     ]
    },
    {
     "data": {
      "image/png": "[encoded data removed]",
      "text/plain": [
       "<Figure size 432x288 with 1 Axes>"
      ]
     },
     "metadata": {
      "needs_background": "light"
     },
     "output_type": "display_data"
    },
    {
     "name": "stdout",
     "output_type": "stream",
     "text": [
      "None\n"
     ]
    }
   ],
   "source": [
    "x_values = shemi[\"Latitude\"]\n",
    "y_values = shemi[\"Max Temp\"]\n",
    "plt.title('S. Hemisphere: Latitude vs. Max Temperature (F)')\n",
    "plt.ylabel(\"Max Temp (F)\")\n",
    "print(linear_reg(x_values,y_values))\n",
    "\n",
    "#observation: strong positive correlation (r value = 0.70), in S. Hem as Lat increases max temp increases\n",
    "#moving toward the equator"
   ]
  },
  {
   "cell_type": "markdown",
   "metadata": {},
   "source": [
    "####  Northern Hemisphere - Humidity (%) vs. Latitude Linear Regression"
   ]
  },
  {
   "cell_type": "code",
   "execution_count": 105,
   "metadata": {},
   "outputs": [
    {
     "name": "stdout",
     "output_type": "stream",
     "text": [
      "The r-squared is: 0.3838341812978543\n"
     ]
    },
    {
     "data": {
      "image/png": "[encoded data removed]",
      "text/plain": [
       "<Figure size 432x288 with 1 Axes>"
      ]
     },
     "metadata": {
      "needs_background": "light"
     },
     "output_type": "display_data"
    },
    {
     "name": "stdout",
     "output_type": "stream",
     "text": [
      "None\n"
     ]
    }
   ],
   "source": [
    "x_values = nhemi[\"Latitude\"]\n",
    "y_values = nhemi[\"Humidity\"]\n",
    "plt.title('N. Hemisphere: Latitude vs. Humidity')\n",
    "plt.ylabel(\"Humidity\")\n",
    "print(linear_reg(x_values,y_values))\n",
    "\n",
    "#observation, weak correlation (r = 0.4), as in N. Hemisphere lat increases humidity slightly increases for some cities"
   ]
  },
  {
   "cell_type": "markdown",
   "metadata": {},
   "source": [
    "####  Southern Hemisphere - Humidity (%) vs. Latitude Linear Regression"
   ]
  },
  {
   "cell_type": "code",
   "execution_count": 106,
   "metadata": {},
   "outputs": [
    {
     "name": "stdout",
     "output_type": "stream",
     "text": [
      "The r-squared is: -0.031845085294373174\n"
     ]
    },
    {
     "data": {
      "image/png": "[encoded data removed]",
      "text/plain": [
       "<Figure size 432x288 with 1 Axes>"
      ]
     },
     "metadata": {
      "needs_background": "light"
     },
     "output_type": "display_data"
    },
    {
     "name": "stdout",
     "output_type": "stream",
     "text": [
      "None\n"
     ]
    }
   ],
   "source": [
    "x_values = shemi[\"Latitude\"]\n",
    "y_values = shemi[\"Humidity\"]\n",
    "plt.title('S. Hemisphere: Latitude vs. Humidity')\n",
    "plt.ylabel(\"Humidity\")\n",
    "print(linear_reg(x_values,y_values))\n",
    "\n",
    "#observation, no correlation (r = -0.026), in S. hemisphere as lat increases no trends in humidity"
   ]
  },
  {
   "cell_type": "markdown",
   "metadata": {},
   "source": [
    "####  Northern Hemisphere - Cloudiness (%) vs. Latitude Linear Regression"
   ]
  },
  {
   "cell_type": "code",
   "execution_count": 107,
   "metadata": {},
   "outputs": [
    {
     "name": "stdout",
     "output_type": "stream",
     "text": [
      "The r-squared is: 0.17910511898832548\n"
     ]
    },
    {
     "data": {
      "image/png": "[encoded data removed]",
      "text/plain": [
       "<Figure size 432x288 with 1 Axes>"
      ]
     },
     "metadata": {
      "needs_background": "light"
     },
     "output_type": "display_data"
    },
    {
     "name": "stdout",
     "output_type": "stream",
     "text": [
      "None\n"
     ]
    }
   ],
   "source": [
    "x_values = nhemi[\"Latitude\"]\n",
    "y_values = nhemi[\"Cloudiness\"]\n",
    "plt.title('N. Hemisphere: Latitude vs. Cloudiness (%)')\n",
    "plt.ylabel(\"Cloudiness\")\n",
    "print(linear_reg(x_values,y_values))\n",
    "\n",
    "#observation, no correlation (r = 0.18), in N. hemisphere as lat increases no stat sig trend in cloudiness"
   ]
  },
  {
   "cell_type": "markdown",
   "metadata": {},
   "source": [
    "####  Southern Hemisphere - Cloudiness (%) vs. Latitude Linear Regression"
   ]
  },
  {
   "cell_type": "code",
   "execution_count": 108,
   "metadata": {},
   "outputs": [
    {
     "name": "stdout",
     "output_type": "stream",
     "text": [
      "The r-squared is: 0.13547446780170858\n"
     ]
    },
    {
     "data": {
      "image/png": "[encoded data removed]",
      "text/plain": [
       "<Figure size 432x288 with 1 Axes>"
      ]
     },
     "metadata": {
      "needs_background": "light"
     },
     "output_type": "display_data"
    },
    {
     "name": "stdout",
     "output_type": "stream",
     "text": [
      "None\n"
     ]
    }
   ],
   "source": [
    "x_values = shemi[\"Latitude\"]\n",
    "y_values = shemi[\"Cloudiness\"]\n",
    "plt.title('S. Hemisphere: Latitude vs. Cloudiness (%)')\n",
    "plt.ylabel(\"Cloudiness (%)\")\n",
    "print(linear_reg(x_values,y_values))\n",
    "\n",
    "#observation, no correlation (r = 0.025), in S. hemisphere as lat increases no stat sig trend in cloudiness\n",
    "\n"
   ]
  },
  {
   "cell_type": "markdown",
   "metadata": {},
   "source": [
    "####  Northern Hemisphere - Wind Speed (mph) vs. Latitude Linear Regression"
   ]
  },
  {
   "cell_type": "code",
   "execution_count": 109,
   "metadata": {},
   "outputs": [
    {
     "name": "stdout",
     "output_type": "stream",
     "text": [
      "The r-squared is: 0.11833184012503009\n"
     ]
    },
    {
     "data": {
      "image/png": "[encoded data removed]",
      "text/plain": [
       "<Figure size 432x288 with 1 Axes>"
      ]
     },
     "metadata": {
      "needs_background": "light"
     },
     "output_type": "display_data"
    },
    {
     "name": "stdout",
     "output_type": "stream",
     "text": [
      "None\n"
     ]
    }
   ],
   "source": [
    "x_values = nhemi[\"Latitude\"]\n",
    "y_values = nhemi[\"Wind Speed\"]\n",
    "plt.title('N. Hemisphere: Latitude vs. Wind Speed (mph)')\n",
    "plt.ylabel(\"Wind Speed (mph)\")\n",
    "print(linear_reg(x_values,y_values))\n",
    "\n",
    "#observation, no correlation (r = 0.099), in N. hemisphere as lat increases no stat sig trend in wind speed\n"
   ]
  },
  {
   "cell_type": "markdown",
   "metadata": {},
   "source": [
    "####  Southern Hemisphere - Wind Speed (mph) vs. Latitude Linear Regression"
   ]
  },
  {
   "cell_type": "code",
   "execution_count": 110,
   "metadata": {},
   "outputs": [
    {
     "name": "stdout",
     "output_type": "stream",
     "text": [
      "The r-squared is: -0.2632670376686728\n"
     ]
    },
    {
     "data": {
      "image/png": "[encoded data removed]",
      "text/plain": [
       "<Figure size 432x288 with 1 Axes>"
      ]
     },
     "metadata": {
      "needs_background": "light"
     },
     "output_type": "display_data"
    },
    {
     "name": "stdout",
     "output_type": "stream",
     "text": [
      "None\n"
     ]
    }
   ],
   "source": [
    "x_values = shemi[\"Latitude\"]\n",
    "y_values = shemi[\"Wind Speed\"]\n",
    "plt.title('S. Hemisphere: Latitude vs. Wind Speed (mph)')\n",
    "plt.ylabel(\"Wind Speed (mph)\")\n",
    "print(linear_reg(x_values,y_values))\n",
    "\n",
    "#observation, no correlation (r = -0.22), in S. hemisphere as lat increases no stat sig trend in wind speed\n",
    "\n"
   ]
  },
  {
   "cell_type": "code",
   "execution_count": null,
   "metadata": {},
   "outputs": [],
   "source": []
  }
 ],
 "metadata": {
  "anaconda-cloud": {},
  "kernel_info": {
   "name": "python3"
  },
  "kernelspec": {
   "display_name": "Python [conda env:PythonData] *",
   "language": "python",
   "name": "conda-env-PythonData-py"
  },
  "language_info": {
   "codemirror_mode": {
    "name": "ipython",
    "version": 3
   },
   "file_extension": ".py",
   "mimetype": "text/x-python",
   "name": "python",
   "nbconvert_exporter": "python",
   "pygments_lexer": "ipython3",
   "version": "3.6.10"
  },
  "latex_envs": {
   "LaTeX_envs_menu_present": true,
   "autoclose": false,
   "autocomplete": true,
   "bibliofile": "biblio.bib",
   "cite_by": "apalike",
   "current_citInitial": 1,
   "eqLabelWithNumbers": true,
   "eqNumInitial": 1,
   "hotkeys": {
    "equation": "Ctrl-E",
    "itemize": "Ctrl-I"
   },
   "labels_anchors": false,
   "latex_user_defs": false,
   "report_style_numbering": false,
   "user_envs_cfg": false
  },
  "nteract": {
   "version": "0.12.3"
  }
 },
 "nbformat": 4,
 "nbformat_minor": 2
}
